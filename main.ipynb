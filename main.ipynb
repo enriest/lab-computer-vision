{
 "cells": [
  {
   "cell_type": "markdown",
   "metadata": {
    "id": "ZaLHjbgl4sdC"
   },
   "source": [
    "# Computer Vision (Image operators and filters)\n",
    "\n",
    "By the end of this lab, you will get hands on experience working with:\n",
    "\n",
    "*   Image Handling\n",
    "*   Image Manipulation\n",
    "*   Histogram and Histogram Equalization\n",
    "*   Basic filtering techniques\n",
    "\n",
    "<!-- ### **Remember this is a graded exercise.** -->\n",
    "\n",
    "**Reminder**:\n",
    "\n",
    "*   For every plot, make sure you provide appropriate titles, axis labels, legends, wherever applicable.\n",
    "*   Add sufficient comments and explanations wherever necessary.\n",
    "\n",
    "---\n"
   ]
  },
  {
   "cell_type": "code",
   "execution_count": 1,
   "metadata": {
    "id": "BuqI1scQ4imT"
   },
   "outputs": [],
   "source": [
    "# Loading necessary libraries (Feel free to add new libraries if you need for any computation)\n",
    "import numpy as np\n",
    "import matplotlib.pyplot as plt\n",
    "import cv2\n",
    "%matplotlib inline\n",
    "print('Libraries loaded: numpy', np.__version__, 'cv2', cv2.__version__)\n"
   ]
  },
  {
   "cell_type": "markdown",
   "metadata": {},
   "source": [
    "## Exercise 1: Image Handling\n",
    "- Load the provided image (or any sample image) in color and grayscale.\n",
    "- Display shapes and basic stats.\n",
    "- Convert color spaces (RGB <-> HSV).\n"
   ]
  },
  {
   "cell_type": "code",
   "execution_count": 2,
   "metadata": {},
   "outputs": [],
   "source": [
    "# Read an image from OpenCV sample or fallback to a URL read via cv2.imdecode\n",
    "import urllib.request, ssl\n",
    "ssl._create_default_https_context = ssl._create_unverified_context\n",
    "url = 'https://raw.githubusercontent.com/opencv/opencv/master/samples/data/lena.jpg'\n",
    "data = np.asarray(bytearray(urllib.request.urlopen(url).read()), dtype=np.uint8)\n",
    "img_bgr = cv2.imdecode(data, cv2.IMREAD_COLOR)\n",
    "img_gray = cv2.cvtColor(img_bgr, cv2.COLOR_BGR2GRAY)\n",
    "img_rgb = cv2.cvtColor(img_bgr, cv2.COLOR_BGR2RGB)\n",
    "img_hsv = cv2.cvtColor(img_bgr, cv2.COLOR_BGR2HSV)\n",
    "print('Shapes - BGR:', img_bgr.shape, 'Gray:', img_gray.shape, 'RGB:', img_rgb.shape, 'HSV:', img_hsv.shape)\n",
    "# Display\n",
    "fig, axs = plt.subplots(1,3, figsize=(12,4))\n",
    "axs[0].imshow(img_rgb); axs[0].set_title('RGB'); axs[0].axis('off')\n",
    "axs[1].imshow(img_gray, cmap='gray'); axs[1].set_title('Grayscale'); axs[1].axis('off')\n",
    "axs[2].imshow(cv2.cvtColor(img_hsv, cv2.COLOR_HSV2RGB)); axs[2].set_title('HSV->RGB'); axs[2].axis('off')\n",
    "plt.tight_layout()\n"
   ]
  },
  {
   "cell_type": "markdown",
   "metadata": {},
   "source": [
    "## Exercise 2: Histogram and Equalization\n",
    "- Plot grayscale histogram.\n",
    "- Apply histogram equalization and compare.\n"
   ]
  },
  {
   "cell_type": "code",
   "execution_count": 3,
   "metadata": {},
   "outputs": [],
   "source": [
    "hist = cv2.calcHist([img_gray],[0],None,[256],[0,256]).ravel()\n",
    "img_eq = cv2.equalizeHist(img_gray)\n",
    "hist_eq = cv2.calcHist([img_eq],[0],None,[256],[0,256]).ravel()\n",
    "fig, axs = plt.subplots(2,2, figsize=(10,6))\n",
    "axs[0,0].imshow(img_gray, cmap='gray'); axs[0,0].set_title('Original Gray'); axs[0,0].axis('off')\n",
    "axs[0,1].imshow(img_eq, cmap='gray'); axs[0,1].set_title('Equalized'); axs[0,1].axis('off')\n",
    "axs[1,0].plot(hist); axs[1,0].set_title('Histogram - Original'); axs[1,0].set_xlim(0,255)\n",
    "axs[1,1].plot(hist_eq); axs[1,1].set_title('Histogram - Equalized'); axs[1,1].set_xlim(0,255)\n",
    "for ax in axs[1]: ax.set_xlabel('Intensity'); ax.set_ylabel('Frequency')\n",
    "plt.tight_layout()\n"
   ]
  },
  {
   "cell_type": "markdown",
   "metadata": {},
   "source": [
    "## Exercise 3: Basic Filters\n",
    "- Apply mean, Gaussian, and median filters.\n",
    "- Show effects and discuss differences.\n"
   ]
  },
  {
   "cell_type": "code",
   "execution_count": 4,
   "metadata": {},
   "outputs": [],
   "source": [
    "blur_mean = cv2.blur(img_rgb, (5,5))\n",
    "blur_gauss = cv2.GaussianBlur(img_rgb, (5,5), 1.0)\n",
    "blur_med = cv2.medianBlur(img_rgb, 5)\n",
    "fig, axs = plt.subplots(1,4, figsize=(16,4))\n",
    "axs[0].imshow(img_rgb); axs[0].set_title('Original'); axs[0].axis('off')\n",
    "axs[1].imshow(blur_mean); axs[1].set_title('Mean Blur 5x5'); axs[1].axis('off')\n",
    "axs[2].imshow(blur_gauss); axs[2].set_title('Gaussian 5x5, sigma=1'); axs[2].axis('off')\n",
    "axs[3].imshow(blur_med); axs[3].set_title('Median 5x5'); axs[3].axis('off')\n",
    "plt.tight_layout()\n"
   ]
  },
  {
   "cell_type": "markdown",
   "metadata": {},
   "source": [
    "## Exercise 4: Edge Detection\n",
    "- Use Sobel and Canny detectors.\n",
    "- Visualize and compare.\n"
   ]
  },
  {
   "cell_type": "code",
   "execution_count": 5,
   "metadata": {},
   "outputs": [],
   "source": [
    "sobelx = cv2.Sobel(img_gray, cv2.CV_64F, 1, 0, ksize=3)\n",
    "sobely = cv2.Sobel(img_gray, cv2.CV_64F, 0, 1, ksize=3)\n",
    "sobel = cv2.magnitude(sobelx, sobely)\n",
    "canny = cv2.Canny(img_gray, 100, 200)\n",
    "fig, axs = plt.subplots(1,3, figsize=(12,4))\n",
    "axs[0].imshow(np.uint8(np.clip(sobel,0,255)), cmap='gray'); axs[0].set_title('Sobel Magnitude'); axs[0].axis('off')\n",
    "axs[1].imshow(canny, cmap='gray'); axs[1].set_title('Canny (100,200)'); axs[1].axis('off')\n",
    "axs[2].imshow(img_rgb); axs[2].set_title('Reference'); axs[2].axis('off')\n",
    "plt.tight_layout()\n"
   ]
  },
  {
   "cell_type": "markdown",
   "metadata": {},
   "source": [
    "## Conclusions\n",
    "- Hist. equalization improves contrast by redistributing intensities.\n",
    "- Mean/Gaussian blur smooth noise but may blur edges; median preserves edges better for salt-and-pepper noise.\n",
    "- Sobel highlights gradient magnitude; Canny provides thin, thresholded edges.\n"
   ]
  }
 ],
 "metadata": {
  "kernelspec": {
   "display_name": "Python 3",
   "language": "python",
   "name": "python3"
  },
  "language_info": {
   "name": "python",
   "version": "3.10"
  }
 },
 "nbformat": 4,
 "nbformat_minor": 5
}
